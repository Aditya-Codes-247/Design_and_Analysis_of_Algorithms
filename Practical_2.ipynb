{
 "cells": [
  {
   "cell_type": "markdown",
   "metadata": {},
   "source": [
    "1. Implement iterative and full recursive version of following sorting techniques and repeat the experiment for larger values of n with different input patterns and plot the comparison graph of number of elements versus execution time taken. The elements can be read from a file or can be generated using random number generator.\n",
    "\n",
    "     a) Selection sort\n",
    "\n",
    "     b) Insertion sort\n",
    "\n",
    "     c) Bubble sort"
   ]
  },
  {
   "cell_type": "markdown",
   "metadata": {},
   "source": [
    "1: Selection Sort:\n",
    "\n",
    "a> Iterative Version"
   ]
  },
  {
   "cell_type": "code",
   "execution_count": 3,
   "metadata": {},
   "outputs": [],
   "source": [
    "import numpy as np\n",
    "import math"
   ]
  },
  {
   "cell_type": "code",
   "execution_count": 4,
   "metadata": {},
   "outputs": [],
   "source": [
    "def selection_sort(arr):\n",
    "    for i in range(0,len(arr)-1):\n",
    "        curr_minimum_idx = i\n",
    "        for j in range(i+1,len(arr)):\n",
    "            if (arr[j] < arr[curr_minimum_idx]):\n",
    "                curr_minimum_idx = j\n",
    "        arr[i], arr[curr_minimum_idx] = arr[curr_minimum_idx],arr[i]\n",
    "    return arr"
   ]
  },
  {
   "cell_type": "code",
   "execution_count": 5,
   "metadata": {},
   "outputs": [
    {
     "name": "stdout",
     "output_type": "stream",
     "text": [
      "[1 2 3 4 5]\n"
     ]
    }
   ],
   "source": [
    "array = np.array([5,4,3,2,1])\n",
    "print(selection_sort(array))"
   ]
  },
  {
   "cell_type": "markdown",
   "metadata": {},
   "source": [
    "b> Recursive Version"
   ]
  },
  {
   "cell_type": "code",
   "execution_count": 6,
   "metadata": {},
   "outputs": [],
   "source": [
    "def recursive_selection_sort(arr, n=None, index=0):\n",
    "    if n is None:\n",
    "        n = len(arr)\n",
    "    if index == n:\n",
    "        return\n",
    "    min_index = index\n",
    "    for j in range(index + 1, n):\n",
    "        if arr[j] < arr[min_index]:\n",
    "            min_index = j\n",
    "\n",
    "    arr[index], arr[min_index] = arr[min_index], arr[index]\n",
    "    recursive_selection_sort(arr, n, index + 1)\n",
    "    return arr\n"
   ]
  },
  {
   "cell_type": "code",
   "execution_count": 7,
   "metadata": {},
   "outputs": [
    {
     "name": "stdout",
     "output_type": "stream",
     "text": [
      "[1 2 3 4 5]\n"
     ]
    }
   ],
   "source": [
    "print(recursive_selection_sort(array))"
   ]
  },
  {
   "cell_type": "markdown",
   "metadata": {},
   "source": [
    "2. Insertion Sort\n",
    "\n",
    "a> Iterative version: "
   ]
  },
  {
   "cell_type": "code",
   "execution_count": null,
   "metadata": {},
   "outputs": [],
   "source": []
  }
 ],
 "metadata": {
  "kernelspec": {
   "display_name": "Python 3",
   "language": "python",
   "name": "python3"
  },
  "language_info": {
   "codemirror_mode": {
    "name": "ipython",
    "version": 3
   },
   "file_extension": ".py",
   "mimetype": "text/x-python",
   "name": "python",
   "nbconvert_exporter": "python",
   "pygments_lexer": "ipython3",
   "version": "3.12.3"
  }
 },
 "nbformat": 4,
 "nbformat_minor": 2
}
