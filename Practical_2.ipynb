{
 "cells": [
  {
   "cell_type": "markdown",
   "metadata": {},
   "source": [
    "### 1. Implement iterative and full recursive version of following sorting techniques and repeat the experiment for larger values of n with different input patterns and plot the comparison graph of number of elements versus execution time taken. The elements can be read from a file or can be generated using random number generator.\n",
    "\n",
    "-  a) Selection sort\n",
    "\n",
    "-   b) Insertion sort\n",
    "\n",
    "-   c) Bubble sort"
   ]
  },
  {
   "cell_type": "markdown",
   "metadata": {},
   "source": [
    "### 1: Selection Sort:\n",
    "\n",
    "- a> Iterative Version"
   ]
  },
  {
   "cell_type": "code",
   "execution_count": 30,
   "metadata": {},
   "outputs": [],
   "source": [
    "import numpy as np\n",
    "import math"
   ]
  },
  {
   "cell_type": "code",
   "execution_count": 31,
   "metadata": {},
   "outputs": [],
   "source": [
    "def selection_sort(arr):\n",
    "    for i in range(0,len(arr)-1):\n",
    "        curr_minimum_idx = i\n",
    "        for j in range(i+1,len(arr)):\n",
    "            if (arr[j] < arr[curr_minimum_idx]):\n",
    "                curr_minimum_idx = j\n",
    "        arr[i], arr[curr_minimum_idx] = arr[curr_minimum_idx],arr[i]\n",
    "    return arr"
   ]
  },
  {
   "cell_type": "code",
   "execution_count": 32,
   "metadata": {},
   "outputs": [
    {
     "name": "stdout",
     "output_type": "stream",
     "text": [
      "[1 2 3 4 5]\n"
     ]
    }
   ],
   "source": [
    "array = np.array([5,4,3,2,1])\n",
    "print(selection_sort(array))"
   ]
  },
  {
   "cell_type": "markdown",
   "metadata": {},
   "source": [
    "- b> Recursive Version"
   ]
  },
  {
   "cell_type": "code",
   "execution_count": 33,
   "metadata": {},
   "outputs": [],
   "source": [
    "def recursive_selection_sort(arr, n=None, index=0):\n",
    "    if n is None:\n",
    "        n = len(arr)\n",
    "    if index == n:\n",
    "        return\n",
    "    min_index = index\n",
    "    for j in range(index + 1, n):\n",
    "        if arr[j] < arr[min_index]:\n",
    "            min_index = j\n",
    "\n",
    "    arr[index], arr[min_index] = arr[min_index], arr[index]\n",
    "    recursive_selection_sort(arr, n, index + 1)\n",
    "    return arr\n"
   ]
  },
  {
   "cell_type": "code",
   "execution_count": 34,
   "metadata": {},
   "outputs": [
    {
     "name": "stdout",
     "output_type": "stream",
     "text": [
      "[1 2 3 4 5]\n"
     ]
    }
   ],
   "source": [
    "print(recursive_selection_sort(array))"
   ]
  },
  {
   "cell_type": "markdown",
   "metadata": {},
   "source": [
    "### 2. Insertion Sort:\n",
    "\n",
    "- a> Iterative version: "
   ]
  },
  {
   "cell_type": "code",
   "execution_count": 35,
   "metadata": {},
   "outputs": [],
   "source": [
    "def insertion_sort(arr):\n",
    "    for i in range(1,len(arr)):\n",
    "        j = i\n",
    "        while( arr[j-1] > arr[j]) and (j>0):\n",
    "            arr[j-1],arr[j] = arr[j],arr[j-1]\n",
    "            j -= 1\n",
    "    return arr "
   ]
  },
  {
   "cell_type": "code",
   "execution_count": 36,
   "metadata": {},
   "outputs": [
    {
     "name": "stdout",
     "output_type": "stream",
     "text": [
      "[1 2 3 4 5]\n"
     ]
    }
   ],
   "source": [
    "print(insertion_sort(array))"
   ]
  },
  {
   "cell_type": "markdown",
   "metadata": {},
   "source": [
    "- b> Recursive Version"
   ]
  },
  {
   "cell_type": "code",
   "execution_count": 37,
   "metadata": {},
   "outputs": [],
   "source": [
    "def recursive_insertion_sort(arr, n=None):\n",
    "    if n is None:\n",
    "        n = len(arr)\n",
    "    if n <= 1:\n",
    "        return arr\n",
    "    recursive_insertion_sort(arr, n - 1)\n",
    "    last = arr[n - 1]\n",
    "    j = n - 2\n",
    "    while j >= 0 and arr[j] > last:\n",
    "        arr[j + 1] = arr[j]\n",
    "        j -= 1\n",
    "        \n",
    "    arr[j + 1] = last\n",
    "    return arr\n"
   ]
  },
  {
   "cell_type": "code",
   "execution_count": 38,
   "metadata": {},
   "outputs": [
    {
     "name": "stdout",
     "output_type": "stream",
     "text": [
      "[1 2 3 4 5]\n"
     ]
    }
   ],
   "source": [
    "print(recursive_insertion_sort(array))"
   ]
  },
  {
   "cell_type": "markdown",
   "metadata": {},
   "source": [
    "### 3. Bubble Sort"
   ]
  },
  {
   "cell_type": "markdown",
   "metadata": {},
   "source": [
    "- a> Iterative Version"
   ]
  },
  {
   "cell_type": "code",
   "execution_count": 39,
   "metadata": {},
   "outputs": [],
   "source": [
    "def iterative_bubble_sort(arr):\n",
    "    n = len(arr)\n",
    "    for i in range(n):\n",
    "        swapped = False\n",
    "        # LAST i ELEMENTS ARE ALREADY IN PLACE\n",
    "        for j in range(0,n-i-1):\n",
    "            # Swap if the element found is greater than the next element else continue\n",
    "            if arr[j] > arr[j+1]:\n",
    "                arr[j],arr[j+1] = arr[j+1],arr[j]\n",
    "                swapped = True\n",
    "        if (swapped == False):\n",
    "            break\n",
    "    return arr"
   ]
  },
  {
   "cell_type": "code",
   "execution_count": 40,
   "metadata": {},
   "outputs": [
    {
     "name": "stdout",
     "output_type": "stream",
     "text": [
      "[1 2 3 4 5]\n"
     ]
    }
   ],
   "source": [
    "print(iterative_bubble_sort(array))"
   ]
  },
  {
   "cell_type": "markdown",
   "metadata": {},
   "source": [
    "- b> Recursive "
   ]
  },
  {
   "cell_type": "code",
   "execution_count": 41,
   "metadata": {},
   "outputs": [],
   "source": [
    "def recursive_bubble_sort(arr,n):\n",
    "    if n ==1:\n",
    "        return\n",
    "    for i in range(n-1):\n",
    "        if arr[i] > arr[i+1]:\n",
    "            arr[i],arr[i+1] = arr[i+1],arr[i]\n",
    "    recursive_bubble_sort(arr,n-1)"
   ]
  },
  {
   "cell_type": "code",
   "execution_count": 42,
   "metadata": {},
   "outputs": [
    {
     "name": "stdout",
     "output_type": "stream",
     "text": [
      "[1 2 3 4 5]\n"
     ]
    }
   ],
   "source": [
    "recursive_bubble_sort(array,len(array))\n",
    "print(array)\n",
    "array = np.array([5,4,3,2,1]) #Need tp revert array back to the original so as to use it in next sorting techniques"
   ]
  },
  {
   "cell_type": "markdown",
   "metadata": {},
   "source": [
    "### 2. Given an array of integers nums, sort the array in ascending order and return it. You must solve the problem without using any built-in functions in O(nlog(n)) time complexity and with the smallest space complexity possible."
   ]
  },
  {
   "cell_type": "markdown",
   "metadata": {},
   "source": [
    "Sorting functions with O(nlog(n)) complexity are merge sort and quick sort (I am going to implement Quick Sort)"
   ]
  },
  {
   "cell_type": "code",
   "execution_count": 43,
   "metadata": {},
   "outputs": [],
   "source": [
    "#function that considers last elements as pivot\n",
    "def partition(a,start,end):\n",
    "    i = start-1\n",
    "    pivot = a[end] #pivot element\n",
    "    for j in range(start,end):\n",
    "        if(a[j]<=pivot):\n",
    "            i = i+1\n",
    "            a[i],a[j] = a[j],a[i]\n",
    "    a[i+1],a[end] = a[end],a[i+1]\n",
    "    return i+1\n",
    "\n",
    "\n",
    "#function to implement quick sort\n",
    "def quick(a,start,end):\n",
    "    if (start<end):\n",
    "        p = partition(a,start,end)\n",
    "        quick(a,start,p-1)\n",
    "        quick(a,p+1,end)\n",
    "\n",
    "\n",
    "def printArr(a):\n",
    "    for i in range(len(a)):\n",
    "        print(a[i],end=\" \")\n",
    "\n"
   ]
  },
  {
   "cell_type": "code",
   "execution_count": 44,
   "metadata": {},
   "outputs": [
    {
     "name": "stdout",
     "output_type": "stream",
     "text": [
      "Before\n",
      "5 4 3 2 1 \n",
      "After\n",
      "1 2 3 4 5 "
     ]
    }
   ],
   "source": [
    "print(\"Before\")\n",
    "printArr(array)\n",
    "print(\"\\nAfter\")\n",
    "quick(array,0,len(array)-1)\n",
    "printArr(array)"
   ]
  },
  {
   "cell_type": "markdown",
   "metadata": {},
   "source": [
    "- Selection sort: O(n^2) in all cases\n",
    "- Insertion sort: O(n) = best case, O(n^2) in average/worst cases\n",
    "- Bubble Sort: O(n) = best case, O(n^2) in average/worst cases\n",
    "- Quick Sort: O(nlog(n)) = Best Casse, O(n^2) in worst case."
   ]
  }
 ],
 "metadata": {
  "kernelspec": {
   "display_name": "Python 3",
   "language": "python",
   "name": "python3"
  },
  "language_info": {
   "codemirror_mode": {
    "name": "ipython",
    "version": 3
   },
   "file_extension": ".py",
   "mimetype": "text/x-python",
   "name": "python",
   "nbconvert_exporter": "python",
   "pygments_lexer": "ipython3",
   "version": "3.12.3"
  }
 },
 "nbformat": 4,
 "nbformat_minor": 2
}
